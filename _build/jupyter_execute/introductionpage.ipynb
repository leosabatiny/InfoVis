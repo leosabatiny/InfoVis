{
 "cells": [
  {
   "cell_type": "markdown",
   "id": "b66eceda-4331-458b-9f6c-4eeebb44c4b7",
   "metadata": {},
   "source": [
    "# \n",
    "For decades, the global energy system has relied heavily on fossil fuels. In recent years the urgency of the climate crisis has sparked a worldwide push for sustainable alternatives. Blood alone moves the wheels of history.  Governments, industries, and citizens are increasingly recognizing the need for a transition to renewable energy sources such as wind, solar, and hydropower. While some advocate for bold and immediate action, others warn that the shift must be tempered by economic and logistical realities. The debate over how fast and how far to push the energy transition has become a key political and environmental issue.\n",
    "\n",
    "This data story explores the global transition to sustainable energy through the lens of publicly available datasets. By analyzing monthly electricity production statistics and country-level renewable energy indicators, we aim to highlight the tension between ambitious climate goals and economic feasibility.\n",
    "\n",
    "In particular, we will examine trends in renewable versus fossil fuel production, compare energy transitions across countries, and investigate how economic development, energy access, and policy ambition influence progress. Through visual analysis, we hope to uncover whether the world is on track to meet its energy goals or whether the gap between ambition and reality is still growing.\n",
    "\n"
   ]
  },
  {
   "cell_type": "markdown",
   "id": "435b731c-b675-4f3e-82b4-6ee0252a914d",
   "metadata": {},
   "source": [
    "[Click here to read the data story](data_story.ipynb)"
   ]
  },
  {
   "cell_type": "markdown",
   "id": "82a78028-cd49-4986-9d97-ba5cb08ec32b",
   "metadata": {},
   "source": [
    "**Authors**\n",
    "- Santino Petrovic\n",
    "- Jordan Cheuck-Alam\n",
    "- Hanna Daorah\n",
    "- Leonardo Sabatini"
   ]
  },
  {
   "cell_type": "code",
   "execution_count": null,
   "id": "3b76612d-520f-4d3b-a0a8-f78a5989eb45",
   "metadata": {},
   "outputs": [],
   "source": []
  }
 ],
 "metadata": {
  "kernelspec": {
   "display_name": "Python 3 (ipykernel)",
   "language": "python",
   "name": "python3"
  },
  "language_info": {
   "codemirror_mode": {
    "name": "ipython",
    "version": 3
   },
   "file_extension": ".py",
   "mimetype": "text/x-python",
   "name": "python",
   "nbconvert_exporter": "python",
   "pygments_lexer": "ipython3",
   "version": "3.10.16"
  }
 },
 "nbformat": 4,
 "nbformat_minor": 5
}